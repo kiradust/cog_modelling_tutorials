{
 "cells": [
  {
   "attachments": {},
   "cell_type": "markdown",
   "metadata": {},
   "source": [
    "# Neurostatistics 2025: Circular (directional) statistics practical\n",
    "\n",
    "_Kira M. Dusterwald, February 2025_\n",
    "\n",
    "In this tutorial, you will learn:\n",
    "* The difference between intrinsic and extrinsic circular means, and how these calculations compare on data (for notes on this, see the lecture notes).\n",
    "* How to use maximum likelihood estimation to fit the parameters of a von Mises distribution to the neural activity of a tuning curve from V1."
   ]
  },
  {
   "cell_type": "code",
   "execution_count": 1,
   "metadata": {},
   "outputs": [],
   "source": [
    "import numpy as np\n",
    "import scipy.stats as ss\n",
    "import pickle as pkl"
   ]
  },
  {
   "attachments": {},
   "cell_type": "markdown",
   "metadata": {},
   "source": [
    "## Dataset\n",
    "\n",
    "Load this dictionary containing two neural activity arrays, each of which is from a neuron in primary visual cortex (V1) selected from a mouse from the dataset by _Stringer et al., Nature, 2019_. The neurons have keys \"neur_1\" and \"neur_2\".\n",
    "\n",
    "The neural activity is derived from calcium imaging flourescence to 32 different orientations, evenly spaced around the circle, with the last channel corresponding to spontaneous activity. The orientations are shown to the animal over 64 repeats, and I have calculated the average activity for each orientation across repeats."
   ]
  },
  {
   "cell_type": "code",
   "execution_count": 8,
   "metadata": {},
   "outputs": [
    {
     "name": "stdout",
     "output_type": "stream",
     "text": [
      "dict_keys(['neur_1', 'neur_2'])\n"
     ]
    }
   ],
   "source": [
    "neurons = pkl.load(open('vm_neurons.obj','rb'))\n",
    "print(neurons.keys())"
   ]
  },
  {
   "attachments": {},
   "cell_type": "markdown",
   "metadata": {},
   "source": [
    "### Task 1: Plot rose or polar plots of the data. \n",
    "\n",
    "Represent the data either proportional to activity, or as a collection of points on the unit circle only."
   ]
  },
  {
   "cell_type": "code",
   "execution_count": null,
   "metadata": {},
   "outputs": [],
   "source": []
  },
  {
   "attachments": {},
   "cell_type": "markdown",
   "metadata": {},
   "source": [
    "## Circular means and fundamental statistical tests"
   ]
  },
  {
   "attachments": {},
   "cell_type": "markdown",
   "metadata": {},
   "source": [
    "### Task 2: Calculate the circular mean in different ways.\n",
    "\n",
    "1. Code up the linear mean as we are used to.\n",
    "2. Code up the extrinsic definition of the mean. Also code up the mean resultant vector length.\n",
    "3. The intrinsic definition (minimisation with complex number form for angles) is built-in to scipy. You can use that function directly.\n",
    "\n",
    "Now compare these different types of mean on the two neurons. For which neuron do these definitions agree most?\n",
    "\n",
    "What does the mean resultant vector look like for each set of activities?"
   ]
  },
  {
   "cell_type": "code",
   "execution_count": null,
   "metadata": {},
   "outputs": [],
   "source": []
  },
  {
   "attachments": {},
   "cell_type": "markdown",
   "metadata": {},
   "source": [
    "### Task 3: Use the Rayleigh test for uniformity."
   ]
  },
  {
   "cell_type": "code",
   "execution_count": null,
   "metadata": {},
   "outputs": [],
   "source": []
  },
  {
   "attachments": {},
   "cell_type": "markdown",
   "metadata": {},
   "source": [
    "## Maximum likelihood estimation procedure to fit tuning curves using von Mises distribution"
   ]
  },
  {
   "attachments": {},
   "cell_type": "markdown",
   "metadata": {},
   "source": [
    "### Task 4: Use the MLE derivation to fit the parameters for von Mises tuning curves to the two neurons. \n",
    "\n",
    "When is the fit good or not? \n",
    "\n",
    "Bonus! How does the analytical solution compare to the solution from a numerical solver?"
   ]
  },
  {
   "cell_type": "markdown",
   "metadata": {},
   "source": []
  }
 ],
 "metadata": {
  "kernelspec": {
   "display_name": "Python 3",
   "language": "python",
   "name": "python3"
  },
  "language_info": {
   "codemirror_mode": {
    "name": "ipython",
    "version": 3
   },
   "file_extension": ".py",
   "mimetype": "text/x-python",
   "name": "python",
   "nbconvert_exporter": "python",
   "pygments_lexer": "ipython3",
   "version": "3.11.3"
  },
  "orig_nbformat": 4,
  "vscode": {
   "interpreter": {
    "hash": "b0fa6594d8f4cbf19f97940f81e996739fb7646882a419484c72d19e05852a7e"
   }
  }
 },
 "nbformat": 4,
 "nbformat_minor": 2
}
